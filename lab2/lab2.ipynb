{
 "cells": [
  {
   "cell_type": "code",
   "execution_count": 1,
   "metadata": {},
   "outputs": [],
   "source": [
    "import math\n",
    "import numpy as np\n",
    "from matplotlib import pyplot as plt\n",
    "\n",
    "from lab2_tools import *\n",
    "from lab2_proto import *"
   ]
  },
  {
   "cell_type": "code",
   "execution_count": 2,
   "metadata": {},
   "outputs": [],
   "source": [
    "data = np.load('lab2_data.npz', allow_pickle=True)['data']\n",
    "example = np.load('lab2_example.npz', allow_pickle=True)['example'].item()\n",
    "\n",
    "# The variable data and example are arrays of dictionaries. Each element contains the following keys:\n",
    "\n",
    "# filename: filename of the wave file in the database\n",
    "# samplingrate: sampling rate of the speech signal (20kHz in all examples) \n",
    "# gender: gender of the speaker for the current utterance (man, woman) \n",
    "# speaker: speaker ID for the current utterance (ae, ac)\n",
    "# digit: digit contained in the current utterance (o, z, 1, ..., 9) \n",
    "# repetition: whether this was the first (a) or second (b) repetition\n",
    "# samples: array of speech samples\n",
    "# lmfcc: liftered Mel Frequency Cepstrum Coefficients\n",
    "# ----------------------- For example only -----------------------\n",
    "# obsloglik: observation log likelihood for each Gaussian in wordHMMs['o'], shape: (n_timesteps, n_states)\n",
    "# logalpha: alpha log probabilities, see definition later, shape: (n_timesteps, n_states)\n",
    "# logbeta: beta log probabilities, see definition later, shape: (n_timesteps, n_states)\n",
    "# loglik: log likelihood of the observations sequence X given the HMM model, scalar\n",
    "# vloglik: Viterbi log likelihood of the observations se- quence X and the best path given the HMM model, scalar\n",
    "# loggamma: gamma log probabilities, see definition later, shape: (n_timesteps, n_states)\n",
    "# logxi: xi log probabilities, see definition later, shape: (n_timesteps, n_states)"
   ]
  },
  {
   "cell_type": "code",
   "execution_count": 3,
   "metadata": {},
   "outputs": [
    {
     "data": {
      "text/plain": [
       "['ah',\n",
       " 'ao',\n",
       " 'ay',\n",
       " 'eh',\n",
       " 'ey',\n",
       " 'f',\n",
       " 'ih',\n",
       " 'iy',\n",
       " 'k',\n",
       " 'n',\n",
       " 'ow',\n",
       " 'r',\n",
       " 's',\n",
       " 'sil',\n",
       " 'sp',\n",
       " 't',\n",
       " 'th',\n",
       " 'uw',\n",
       " 'v',\n",
       " 'w',\n",
       " 'z']"
      ]
     },
     "execution_count": 3,
     "metadata": {},
     "output_type": "execute_result"
    }
   ],
   "source": [
    "# trained on the full training set\n",
    "phoneHMMs = np.load('lab2_models_onespkr.npz', allow_pickle=True)['phoneHMMs'].item()\n",
    "\n",
    "# trained on a single speaker, that happens to be female\n",
    "# phoneHMMs = np.load('lab2_models_all.npz', allow_pickle=True)['phoneHMMs'].item()\n",
    "\n",
    "# phoneHMMs is a dictionary with 21 keys, each corresponding to a phonetic model\n",
    "list(sorted(phoneHMMs.keys()))"
   ]
  },
  {
   "cell_type": "code",
   "execution_count": 4,
   "metadata": {},
   "outputs": [
    {
     "data": {
      "text/plain": [
       "dict_keys(['name', 'startprob', 'transmat', 'means', 'covars'])"
      ]
     },
     "execution_count": 4,
     "metadata": {},
     "output_type": "execute_result"
    }
   ],
   "source": [
    "phoneHMMs['ah'].keys()\n",
    "# name: phonetic symbol, sil(silence) or sp(short pauses)\n",
    "# startprob: probability to start in state i, size: [4,]\n",
    "# transmat: transition probability from state i to j, size: [4, 4]\n",
    "# means: [3, 13] array of mean vectors (rows correspond to different states)\n",
    "# covars: [3, 13] array of variance vectors (rows correspond to different states)"
   ]
  },
  {
   "cell_type": "code",
   "execution_count": 5,
   "metadata": {},
   "outputs": [],
   "source": [
    "from prondict import *\n",
    "\n",
    "# Because we are working with recordings of isolated digits, \n",
    "# a model of each utterance should also contain initial and final silence\n",
    "isolated = {}\n",
    "wordHMMs = {}\n",
    "for digit in prondict.keys():\n",
    "    isolated[digit] = ['sil'] + prondict[digit] + ['sil']\n",
    "    wordHMMs[digit] = concatHMMs(phoneHMMs, isolated[digit])"
   ]
  },
  {
   "cell_type": "markdown",
   "metadata": {},
   "source": [
    "# Gaussian emission probabilities"
   ]
  },
  {
   "cell_type": "code",
   "execution_count": 6,
   "metadata": {},
   "outputs": [
    {
     "name": "stdout",
     "output_type": "stream",
     "text": [
      "obsloglik is checked\n"
     ]
    },
    {
     "data": {
      "image/png": "[encoded data removed]",
      "text/plain": [
       "<Figure size 1200x600 with 2 Axes>"
      ]
     },
     "metadata": {},
     "output_type": "display_data"
    }
   ],
   "source": [
    "obsloglik = log_multivariate_normal_density_diag(example['lmfcc'], wordHMMs['o']['means'], wordHMMs['o']['covars'])  \n",
    "if np.allclose(obsloglik, example[\"obsloglik\"]):\n",
    "    print(\"obsloglik is checked\")\n",
    "\n",
    "plt.figure(figsize=(12, 6)) \n",
    "plt.subplot(1, 2, 1)  # 1 row, 2 columns, first subplot\n",
    "plt.pcolormesh(obsloglik.T)\n",
    "plt.subplot(1, 2, 2)  # 1 row, 2 columns, second subplot\n",
    "plt.pcolormesh(example['obsloglik'].T)\n",
    "plt.show()"
   ]
  },
  {
   "cell_type": "markdown",
   "metadata": {},
   "source": [
    "# Forward Algorithm"
   ]
  },
  {
   "cell_type": "code",
   "execution_count": 7,
   "metadata": {},
   "outputs": [
    {
     "name": "stdout",
     "output_type": "stream",
     "text": [
      "logalpha is checked\n"
     ]
    },
    {
     "data": {
      "image/png": "[encoded data removed]",
      "text/plain": [
       "<Figure size 1200x600 with 2 Axes>"
      ]
     },
     "metadata": {},
     "output_type": "display_data"
    }
   ],
   "source": [
    "log_startprob = np.log(wordHMMs['o']['startprob'][:-1])\n",
    "log_transmat = np.log(wordHMMs['o']['transmat'][:-1, :-1])\n",
    "logalpha = forward(obsloglik, log_startprob, log_transmat) \n",
    "if np.allclose(logalpha, example[\"logalpha\"]):\n",
    "    print(\"logalpha is checked\")\n",
    "\n",
    "plt.figure(figsize=(12, 6)) \n",
    "plt.subplot(1, 2, 1)  # 1 row, 2 columns, first subplot\n",
    "plt.pcolormesh(logalpha.T)\n",
    "plt.subplot(1, 2, 2)  # 1 row, 2 columns, second subplot\n",
    "plt.pcolormesh(example['logalpha'].T)\n",
    "plt.show()"
   ]
  },
  {
   "cell_type": "code",
   "execution_count": 8,
   "metadata": {},
   "outputs": [
    {
     "name": "stdout",
     "output_type": "stream",
     "text": [
      "loglik is checked\n"
     ]
    }
   ],
   "source": [
    "# last coloum in logalpha gives all observations \n",
    "loglik = logsumexp(logalpha[-1])\n",
    "if np.allclose(loglik, example[\"loglik\"]):\n",
    "    print(\"loglik is checked\")"
   ]
  },
  {
   "cell_type": "markdown",
   "metadata": {},
   "source": [
    "# Viterbi Approximation"
   ]
  },
  {
   "cell_type": "code",
   "execution_count": 9,
   "metadata": {},
   "outputs": [
    {
     "name": "stdout",
     "output_type": "stream",
     "text": [
      "vloglik is checked\n",
      "vpath is checked\n"
     ]
    }
   ],
   "source": [
    "vloglik, vpath = viterbi(obsloglik, log_startprob, log_transmat)\n",
    "\n",
    "if np.allclose(vloglik, example['vloglik']):\n",
    "    print(\"vloglik is checked\")\n",
    "if np.allclose(vpath, example['vpath']):\n",
    "    print(\"vpath is checked\")"
   ]
  },
  {
   "cell_type": "markdown",
   "metadata": {},
   "source": [
    "# Backward Algorithm"
   ]
  },
  {
   "cell_type": "code",
   "execution_count": 10,
   "metadata": {},
   "outputs": [
    {
     "name": "stdout",
     "output_type": "stream",
     "text": [
      "logbeta is checked\n"
     ]
    },
    {
     "data": {
      "image/png": "[encoded data removed]",
      "text/plain": [
       "<Figure size 1200x600 with 2 Axes>"
      ]
     },
     "metadata": {},
     "output_type": "display_data"
    }
   ],
   "source": [
    "logbeta = backward(obsloglik, log_startprob, log_transmat) \n",
    "if np.allclose(logbeta, example[\"logbeta\"]):\n",
    "    print(\"logbeta is checked\")\n",
    "\n",
    "plt.figure(figsize=(12, 6)) \n",
    "plt.subplot(1, 2, 1)  # 1 row, 2 columns, first subplot\n",
    "plt.pcolormesh(logbeta.T)\n",
    "plt.subplot(1, 2, 2)  # 1 row, 2 columns, second subplot\n",
    "plt.pcolormesh(example['logbeta'].T)\n",
    "plt.show()"
   ]
  }
 ],
 "metadata": {
  "kernelspec": {
   "display_name": "Python 3",
   "language": "python",
   "name": "python3"
  },
  "language_info": {
   "codemirror_mode": {
    "name": "ipython",
    "version": 3
   },
   "file_extension": ".py",
   "mimetype": "text/x-python",
   "name": "python",
   "nbconvert_exporter": "python",
   "pygments_lexer": "ipython3",
   "version": "3.9.6"
  }
 },
 "nbformat": 4,
 "nbformat_minor": 2
}
