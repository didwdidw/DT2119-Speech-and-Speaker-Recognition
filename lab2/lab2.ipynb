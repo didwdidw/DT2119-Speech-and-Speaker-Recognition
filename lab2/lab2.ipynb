{
 "cells": [
  {
   "cell_type": "code",
   "execution_count": 27,
   "metadata": {},
   "outputs": [],
   "source": [
    "import math\n",
    "import numpy as np\n",
    "from matplotlib import pyplot as plt\n",
    "\n",
    "from lab2_tools import *\n",
    "from lab2_proto import *"
   ]
  },
  {
   "cell_type": "code",
   "execution_count": 28,
   "metadata": {},
   "outputs": [],
   "source": [
    "data = np.load('lab2_data.npz', allow_pickle=True)['data']\n",
    "example = np.load('lab2_example.npz', allow_pickle=True)['example'].item()\n",
    "\n",
    "# The variable data and example are arrays of dictionaries. Each element contains the following keys:\n",
    "\n",
    "# filename: filename of the wave file in the database\n",
    "# samplingrate: sampling rate of the speech signal (20kHz in all examples) \n",
    "# gender: gender of the speaker for the current utterance (man, woman) \n",
    "# speaker: speaker ID for the current utterance (ae, ac)\n",
    "# digit: digit contained in the current utterance (o, z, 1, ..., 9) \n",
    "# repetition: whether this was the first (a) or second (b) repetition\n",
    "# samples: array of speech samples\n",
    "# lmfcc: liftered Mel Frequency Cepstrum Coefficients\n",
    "# ----------------------- For example only -----------------------\n",
    "# obsloglik: observation log likelihood for each Gaussian in wordHMMs['o'], shape: (n_timesteps, n_states)\n",
    "# logalpha: alpha log probabilities, see definition later, shape: (n_timesteps, n_states)\n",
    "# logbeta: beta log probabilities, see definition later, shape: (n_timesteps, n_states)\n",
    "# loglik: log likelihood of the observations sequence X given the HMM model, scalar\n",
    "# vloglik: Viterbi log likelihood of the observations se- quence X and the best path given the HMM model, scalar\n",
    "# loggamma: gamma log probabilities, see definition later, shape: (n_timesteps, n_states)\n",
    "# logxi: xi log probabilities, see definition later, shape: (n_timesteps, n_states)"
   ]
  },
  {
   "cell_type": "code",
   "execution_count": 29,
   "metadata": {},
   "outputs": [
    {
     "data": {
      "text/plain": [
       "['ah',\n",
       " 'ao',\n",
       " 'ay',\n",
       " 'eh',\n",
       " 'ey',\n",
       " 'f',\n",
       " 'ih',\n",
       " 'iy',\n",
       " 'k',\n",
       " 'n',\n",
       " 'ow',\n",
       " 'r',\n",
       " 's',\n",
       " 'sil',\n",
       " 'sp',\n",
       " 't',\n",
       " 'th',\n",
       " 'uw',\n",
       " 'v',\n",
       " 'w',\n",
       " 'z']"
      ]
     },
     "execution_count": 29,
     "metadata": {},
     "output_type": "execute_result"
    }
   ],
   "source": [
    "# trained on the full training set\n",
    "phoneHMMs = np.load('lab2_models_onespkr.npz', allow_pickle=True)['phoneHMMs'].item()\n",
    "\n",
    "# trained on a single speaker, that happens to be female\n",
    "# phoneHMMs = np.load('lab2_models_all.npz', allow_pickle=True)['phoneHMMs'].item()\n",
    "\n",
    "# phoneHMMs is a dictionary with 21 keys, each corresponding to a phonetic model\n",
    "list(sorted(phoneHMMs.keys()))"
   ]
  },
  {
   "cell_type": "code",
   "execution_count": 30,
   "metadata": {},
   "outputs": [
    {
     "data": {
      "text/plain": [
       "dict_keys(['name', 'startprob', 'transmat', 'means', 'covars'])"
      ]
     },
     "execution_count": 30,
     "metadata": {},
     "output_type": "execute_result"
    }
   ],
   "source": [
    "phoneHMMs['ah'].keys()\n",
    "# name: phonetic symbol, sil(silence) or sp(short pauses)\n",
    "# startprob: probability to start in state i, size: [4,]\n",
    "# transmat: transition probability from state i to j, size: [4, 4]\n",
    "# means: [3, 13] array of mean vectors (rows correspond to different states)\n",
    "# covars: [3, 13] array of variance vectors (rows correspond to different states)"
   ]
  },
  {
   "cell_type": "code",
   "execution_count": 31,
   "metadata": {},
   "outputs": [],
   "source": [
    "from prondict import *\n",
    "\n",
    "# Because we are working with recordings of isolated digits, \n",
    "# a model of each utterance should also contain initial and final silence\n",
    "isolated = {}\n",
    "for digit in prondict.keys():\n",
    "    isolated[digit] = ['sil'] + prondict[digit] + ['sil']"
   ]
  },
  {
   "cell_type": "code",
   "execution_count": null,
   "metadata": {},
   "outputs": [],
   "source": []
  }
 ],
 "metadata": {
  "kernelspec": {
   "display_name": "Python 3",
   "language": "python",
   "name": "python3"
  },
  "language_info": {
   "codemirror_mode": {
    "name": "ipython",
    "version": 3
   },
   "file_extension": ".py",
   "mimetype": "text/x-python",
   "name": "python",
   "nbconvert_exporter": "python",
   "pygments_lexer": "ipython3",
   "version": "3.9.6"
  }
 },
 "nbformat": 4,
 "nbformat_minor": 2
}
